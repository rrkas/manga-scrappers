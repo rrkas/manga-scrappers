{
 "cells": [
  {
   "cell_type": "code",
   "execution_count": null,
   "id": "a006d902-466f-473f-9abf-82c9c3a4eb5d",
   "metadata": {
    "execution": {
     "iopub.execute_input": "2023-12-10T05:46:22.063210Z",
     "iopub.status.busy": "2023-12-10T05:46:22.063210Z",
     "iopub.status.idle": "2023-12-10T05:46:30.346555Z",
     "shell.execute_reply": "2023-12-10T05:46:30.346555Z",
     "shell.execute_reply.started": "2023-12-10T05:46:22.063210Z"
    }
   },
   "outputs": [],
   "source": [
    "!pip install requests bs4 html5lib"
   ]
  },
  {
   "cell_type": "code",
   "execution_count": 6,
   "id": "714e01fd-59fe-45a7-96df-3e6e99b81074",
   "metadata": {
    "execution": {
     "iopub.execute_input": "2023-12-10T08:14:57.731193Z",
     "iopub.status.busy": "2023-12-10T08:14:57.731193Z",
     "iopub.status.idle": "2023-12-10T08:14:57.743713Z",
     "shell.execute_reply": "2023-12-10T08:14:57.743713Z",
     "shell.execute_reply.started": "2023-12-10T08:14:57.731193Z"
    }
   },
   "outputs": [],
   "source": [
    "import requests, os, sys, shutil, json\n",
    "from pathlib import Path\n",
    "from bs4 import BeautifulSoup\n",
    "from tqdm import tqdm"
   ]
  },
  {
   "cell_type": "code",
   "execution_count": 7,
   "id": "db9dbb7c-e513-410f-92a2-77aed9f2536a",
   "metadata": {
    "execution": {
     "iopub.execute_input": "2023-12-10T08:18:20.240638Z",
     "iopub.status.busy": "2023-12-10T08:18:20.239543Z",
     "iopub.status.idle": "2023-12-10T08:18:20.244215Z",
     "shell.execute_reply": "2023-12-10T08:18:20.244215Z",
     "shell.execute_reply.started": "2023-12-10T08:18:20.240638Z"
    }
   },
   "outputs": [],
   "source": [
    "output_dir = Path(\"data/mangaclash\")\n",
    "os.makedirs(output_dir, exist_ok=True)"
   ]
  },
  {
   "cell_type": "code",
   "execution_count": 2,
   "id": "711eaf30-171d-4454-bacd-af53d8e1fa9e",
   "metadata": {
    "execution": {
     "iopub.execute_input": "2023-12-10T08:18:21.477622Z",
     "iopub.status.busy": "2023-12-10T08:18:21.477622Z",
     "iopub.status.idle": "2023-12-10T08:18:21.482315Z",
     "shell.execute_reply": "2023-12-10T08:18:21.481303Z",
     "shell.execute_reply.started": "2023-12-10T08:18:21.477622Z"
    }
   },
   "outputs": [],
   "source": [
    "headers = {\n",
    "    \"User-Agent\": \"Mozilla/5.0 (Windows NT 10.0; Win64; x64) AppleWebKit/537.36 (KHTML, like Gecko) Chrome/42.0.2311.135 Safari/537.36 Edge/12.246\"\n",
    "}"
   ]
  },
  {
   "cell_type": "code",
   "execution_count": 3,
   "id": "f6fc2bf0-f5d1-4b1e-8c4a-a6da4973ad21",
   "metadata": {
    "execution": {
     "iopub.execute_input": "2023-12-10T08:22:34.275577Z",
     "iopub.status.busy": "2023-12-10T08:22:34.260855Z"
    }
   },
   "outputs": [],
   "source": [
    "url = \"https://toonclash.com/manga/bleach/\""
   ]
  },
  {
   "cell_type": "code",
   "execution_count": null,
   "id": "b77fb7b7",
   "metadata": {},
   "outputs": [],
   "source": []
  },
  {
   "cell_type": "code",
   "execution_count": 5,
   "id": "43a42496-5e69-4975-91af-24faac80e4bb",
   "metadata": {},
   "outputs": [
    {
     "name": "stdout",
     "output_type": "stream",
     "text": [
      "716\n"
     ]
    }
   ],
   "source": [
    "resp = requests.get(url, headers=headers)\n",
    "# print(len(resp.content))\n",
    "\n",
    "soup = BeautifulSoup(resp.content, \"html5lib\")\n",
    "chapter_urls = [\n",
    "    e.find(\"a\")[\"href\"]\n",
    "    for e in soup.find_all(\"li\", attrs={\"class\": \"wp-manga-chapter\"})\n",
    "][::-1]\n",
    "print(len(chapter_urls))"
   ]
  },
  {
   "cell_type": "code",
   "execution_count": null,
   "id": "4291ff90",
   "metadata": {},
   "outputs": [],
   "source": []
  },
  {
   "cell_type": "code",
   "execution_count": null,
   "id": "d131538c",
   "metadata": {},
   "outputs": [],
   "source": [
    "for chapter_url in tqdm(chapter_urls):\n",
    "    "
   ]
  }
 ],
 "metadata": {
  "kernelspec": {
   "display_name": "Python 3 (ipykernel)",
   "language": "python",
   "name": "python3"
  },
  "language_info": {
   "codemirror_mode": {
    "name": "ipython",
    "version": 3
   },
   "file_extension": ".py",
   "mimetype": "text/x-python",
   "name": "python",
   "nbconvert_exporter": "python",
   "pygments_lexer": "ipython3",
   "version": "3.10.12"
  },
  "widgets": {
   "application/vnd.jupyter.widget-state+json": {
    "state": {},
    "version_major": 2,
    "version_minor": 0
   }
  }
 },
 "nbformat": 4,
 "nbformat_minor": 5
}
