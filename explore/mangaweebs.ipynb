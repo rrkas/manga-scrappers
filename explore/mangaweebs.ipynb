{
 "cells": [
  {
   "cell_type": "code",
   "execution_count": 6,
   "metadata": {},
   "outputs": [],
   "source": [
    "import json\n",
    "import os\n",
    "import shutil\n",
    "import sys\n",
    "import threading\n",
    "import uuid\n",
    "from multiprocessing import cpu_count\n",
    "from pathlib import Path\n",
    "\n",
    "import fitz\n",
    "import requests\n",
    "from bs4 import BeautifulSoup\n",
    "from PIL import Image\n",
    "from selenium import webdriver\n",
    "from selenium.webdriver.chrome.options import Options\n",
    "from selenium.webdriver.chrome.service import Service\n",
    "from selenium.webdriver.common.by import By\n",
    "from selenium.webdriver.common.desired_capabilities import DesiredCapabilities\n",
    "from selenium.webdriver.common.keys import Keys\n",
    "from selenium.webdriver.support import expected_conditions as EC\n",
    "from selenium.webdriver.support.ui import Select, WebDriverWait\n",
    "from tqdm import tqdm"
   ]
  },
  {
   "cell_type": "code",
   "execution_count": 7,
   "metadata": {},
   "outputs": [],
   "source": [
    "def get_driver(url):\n",
    "    chrome_options = Options()\n",
    "    for e in [\n",
    "        \"enable-automation\",\n",
    "        \"start-maximized\",\n",
    "        \"disable-infobars\",\n",
    "        \"--disable-infobars\",\n",
    "        # \"--headless\",\n",
    "        \"--no-sandbox\",\n",
    "        \"--force-device-scale-factor=1\",\n",
    "        \"--disable-extensions\",\n",
    "        \"--disable-dev-shm-usage\",\n",
    "        \"--disable-gpu\",\n",
    "    ]:\n",
    "        chrome_options.add_argument(e)\n",
    "\n",
    "    # chrome_prefs = {\"profile.managed_default_content_settings.images\": 2}\n",
    "    # chrome_options.experimental_options[\"prefs\"] = chrome_prefs\n",
    "    # chrome_prefs[\"profile.default_content_settings\"] = {\"images\": 2}\n",
    "    chrome_options.add_experimental_option(\"excludeSwitches\", [\"enable-logging\"])\n",
    "    # return chrome_options\n",
    "\n",
    "    # start = datetime.datetime.now()\n",
    "    # service = Service(executable_path=\"/usr/bin/chromedriver\")\n",
    "    driver = webdriver.Chrome(\n",
    "        # service=service,\n",
    "        # options=set_chrome_options(),\n",
    "        options=chrome_options,\n",
    "    )\n",
    "    # driver = webdriver.Remote(desired_capabilities=webdriver.DesiredCapabilities.HTMLUNIT)\n",
    "    driver.implicitly_wait(0.05)\n",
    "    driver.set_page_load_timeout(60 * 60 * 60)\n",
    "    driver.get(url)\n",
    "    # end = datetime.datetime.now()\n",
    "    # print(end - start)\n",
    "    return driver"
   ]
  },
  {
   "cell_type": "code",
   "execution_count": 8,
   "metadata": {},
   "outputs": [],
   "source": [
    "driver = get_driver(\"https://mangaweebs.in/manga/the-lords-coins-arent-decreasing/\")"
   ]
  },
  {
   "cell_type": "code",
   "execution_count": 9,
   "metadata": {},
   "outputs": [],
   "source": [
    "more = driver.find_element(By.CLASS_NAME, \"c-chapter-readmore\")\n",
    "more.click()"
   ]
  },
  {
   "cell_type": "code",
   "execution_count": 13,
   "metadata": {},
   "outputs": [
    {
     "data": {
      "text/plain": [
       "116"
      ]
     },
     "execution_count": 13,
     "metadata": {},
     "output_type": "execute_result"
    }
   ],
   "source": [
    "items = driver.find_elements(\n",
    "    By.XPATH,\n",
    "    \"\"\"//*[@class=\"page-content-listing single-page\"]//li\"\"\",\n",
    ")\n",
    "len(items)"
   ]
  },
  {
   "cell_type": "code",
   "execution_count": 15,
   "metadata": {},
   "outputs": [
    {
     "name": "stdout",
     "output_type": "stream",
     "text": [
      "['https://mangaweebs.in/manga/the-lords-coins-arent-decreasing/chapter-115/', 'https://mangaweebs.in/manga/the-lords-coins-arent-decreasing/chapter-114/', 'https://mangaweebs.in/manga/the-lords-coins-arent-decreasing/chapter-113/', 'https://mangaweebs.in/manga/the-lords-coins-arent-decreasing/chapter-112/', 'https://mangaweebs.in/manga/the-lords-coins-arent-decreasing/chapter-111/', 'https://mangaweebs.in/manga/the-lords-coins-arent-decreasing/chapter-110/', 'https://mangaweebs.in/manga/the-lords-coins-arent-decreasing/chapter-109/', 'https://mangaweebs.in/manga/the-lords-coins-arent-decreasing/chapter-108/', 'https://mangaweebs.in/manga/the-lords-coins-arent-decreasing/chapter-107/', 'https://mangaweebs.in/manga/the-lords-coins-arent-decreasing/chapter-106/', 'https://mangaweebs.in/manga/the-lords-coins-arent-decreasing/chapter-105/', 'https://mangaweebs.in/manga/the-lords-coins-arent-decreasing/chapter-104/', 'https://mangaweebs.in/manga/the-lords-coins-arent-decreasing/chapter-103/', 'https://mangaweebs.in/manga/the-lords-coins-arent-decreasing/chapter-102/', 'https://mangaweebs.in/manga/the-lords-coins-arent-decreasing/chapter-101/', 'https://mangaweebs.in/manga/the-lords-coins-arent-decreasing/chapter-100/', 'https://mangaweebs.in/manga/the-lords-coins-arent-decreasing/chapter-99/', 'https://mangaweebs.in/manga/the-lords-coins-arent-decreasing/chapter-98/', 'https://mangaweebs.in/manga/the-lords-coins-arent-decreasing/chapter-97/', 'https://mangaweebs.in/manga/the-lords-coins-arent-decreasing/chapter-96/', 'https://mangaweebs.in/manga/the-lords-coins-arent-decreasing/chapter-95/', 'https://mangaweebs.in/manga/the-lords-coins-arent-decreasing/chapter-94/', 'https://mangaweebs.in/manga/the-lords-coins-arent-decreasing/chapter-93/', 'https://mangaweebs.in/manga/the-lords-coins-arent-decreasing/chapter-92/', 'https://mangaweebs.in/manga/the-lords-coins-arent-decreasing/chapter-91/', 'https://mangaweebs.in/manga/the-lords-coins-arent-decreasing/chapter-90/', 'https://mangaweebs.in/manga/the-lords-coins-arent-decreasing/chapter-89/', 'https://mangaweebs.in/manga/the-lords-coins-arent-decreasing/chapter-88/', 'https://mangaweebs.in/manga/the-lords-coins-arent-decreasing/chapter-87/', 'https://mangaweebs.in/manga/the-lords-coins-arent-decreasing/chapter-86/', 'https://mangaweebs.in/manga/the-lords-coins-arent-decreasing/chapter-85/', 'https://mangaweebs.in/manga/the-lords-coins-arent-decreasing/chapter-84/', 'https://mangaweebs.in/manga/the-lords-coins-arent-decreasing/chapter-83/', 'https://mangaweebs.in/manga/the-lords-coins-arent-decreasing/chapter-82/', 'https://mangaweebs.in/manga/the-lords-coins-arent-decreasing/chapter-81/', 'https://mangaweebs.in/manga/the-lords-coins-arent-decreasing/chapter-80/', 'https://mangaweebs.in/manga/the-lords-coins-arent-decreasing/chapter-79/', 'https://mangaweebs.in/manga/the-lords-coins-arent-decreasing/chapter-78/', 'https://mangaweebs.in/manga/the-lords-coins-arent-decreasing/chapter-77/', 'https://mangaweebs.in/manga/the-lords-coins-arent-decreasing/chapter-76/', 'https://mangaweebs.in/manga/the-lords-coins-arent-decreasing/chapter-75/', 'https://mangaweebs.in/manga/the-lords-coins-arent-decreasing/chapter-74/', 'https://mangaweebs.in/manga/the-lords-coins-arent-decreasing/chapter-73/', 'https://mangaweebs.in/manga/the-lords-coins-arent-decreasing/chapter-72/', 'https://mangaweebs.in/manga/the-lords-coins-arent-decreasing/chapter-71/', 'https://mangaweebs.in/manga/the-lords-coins-arent-decreasing/chapter-70/', 'https://mangaweebs.in/manga/the-lords-coins-arent-decreasing/chapter-69/', 'https://mangaweebs.in/manga/the-lords-coins-arent-decreasing/chapter-68/', 'https://mangaweebs.in/manga/the-lords-coins-arent-decreasing/chapter-67/', 'https://mangaweebs.in/manga/the-lords-coins-arent-decreasing/chapter-66/', 'https://mangaweebs.in/manga/the-lords-coins-arent-decreasing/chapter-65/', 'https://mangaweebs.in/manga/the-lords-coins-arent-decreasing/chapter-64/', 'https://mangaweebs.in/manga/the-lords-coins-arent-decreasing/chapter-63/', 'https://mangaweebs.in/manga/the-lords-coins-arent-decreasing/chapter-62/', 'https://mangaweebs.in/manga/the-lords-coins-arent-decreasing/chapter-61/', 'https://mangaweebs.in/manga/the-lords-coins-arent-decreasing/chapter-60/', 'https://mangaweebs.in/manga/the-lords-coins-arent-decreasing/chapter-59/', 'https://mangaweebs.in/manga/the-lords-coins-arent-decreasing/chapter-58/', 'https://mangaweebs.in/manga/the-lords-coins-arent-decreasing/chapter-57/', 'https://mangaweebs.in/manga/the-lords-coins-arent-decreasing/chapter-56/', 'https://mangaweebs.in/manga/the-lords-coins-arent-decreasing/chapter-55/', 'https://mangaweebs.in/manga/the-lords-coins-arent-decreasing/chapter-54/', 'https://mangaweebs.in/manga/the-lords-coins-arent-decreasing/chapter-53/', 'https://mangaweebs.in/manga/the-lords-coins-arent-decreasing/chapter-52/', 'https://mangaweebs.in/manga/the-lords-coins-arent-decreasing/chapter-51/', 'https://mangaweebs.in/manga/the-lords-coins-arent-decreasing/chapter-50/', 'https://mangaweebs.in/manga/the-lords-coins-arent-decreasing/chapter-49/', 'https://mangaweebs.in/manga/the-lords-coins-arent-decreasing/chapter-48/', 'https://mangaweebs.in/manga/the-lords-coins-arent-decreasing/chapter-47/', 'https://mangaweebs.in/manga/the-lords-coins-arent-decreasing/chapter-46/', 'https://mangaweebs.in/manga/the-lords-coins-arent-decreasing/chapter-45/', 'https://mangaweebs.in/manga/the-lords-coins-arent-decreasing/chapter-44/', 'https://mangaweebs.in/manga/the-lords-coins-arent-decreasing/chapter-43/', 'https://mangaweebs.in/manga/the-lords-coins-arent-decreasing/chapter-42/', 'https://mangaweebs.in/manga/the-lords-coins-arent-decreasing/chapter-41/', 'https://mangaweebs.in/manga/the-lords-coins-arent-decreasing/chapter-40/', 'https://mangaweebs.in/manga/the-lords-coins-arent-decreasing/chapter-39/', 'https://mangaweebs.in/manga/the-lords-coins-arent-decreasing/chapter-38/', 'https://mangaweebs.in/manga/the-lords-coins-arent-decreasing/chapter-37/', 'https://mangaweebs.in/manga/the-lords-coins-arent-decreasing/chapter-36/', 'https://mangaweebs.in/manga/the-lords-coins-arent-decreasing/chapter-35/', 'https://mangaweebs.in/manga/the-lords-coins-arent-decreasing/chapter-34/', 'https://mangaweebs.in/manga/the-lords-coins-arent-decreasing/chapter-33/', 'https://mangaweebs.in/manga/the-lords-coins-arent-decreasing/chapter-32/', 'https://mangaweebs.in/manga/the-lords-coins-arent-decreasing/chapter-31/', 'https://mangaweebs.in/manga/the-lords-coins-arent-decreasing/chapter-30/', 'https://mangaweebs.in/manga/the-lords-coins-arent-decreasing/chapter-29/', 'https://mangaweebs.in/manga/the-lords-coins-arent-decreasing/chapter-28/', 'https://mangaweebs.in/manga/the-lords-coins-arent-decreasing/chapter-27/', 'https://mangaweebs.in/manga/the-lords-coins-arent-decreasing/chapter-26/', 'https://mangaweebs.in/manga/the-lords-coins-arent-decreasing/chapter-25/', 'https://mangaweebs.in/manga/the-lords-coins-arent-decreasing/chapter-24/', 'https://mangaweebs.in/manga/the-lords-coins-arent-decreasing/chapter-23/', 'https://mangaweebs.in/manga/the-lords-coins-arent-decreasing/chapter-22/', 'https://mangaweebs.in/manga/the-lords-coins-arent-decreasing/chapter-21/', 'https://mangaweebs.in/manga/the-lords-coins-arent-decreasing/chapter-20/', 'https://mangaweebs.in/manga/the-lords-coins-arent-decreasing/chapter-19/', 'https://mangaweebs.in/manga/the-lords-coins-arent-decreasing/chapter-18/', 'https://mangaweebs.in/manga/the-lords-coins-arent-decreasing/chapter-17/', 'https://mangaweebs.in/manga/the-lords-coins-arent-decreasing/chapter-16/', 'https://mangaweebs.in/manga/the-lords-coins-arent-decreasing/chapter-15/', 'https://mangaweebs.in/manga/the-lords-coins-arent-decreasing/chapter-14/', 'https://mangaweebs.in/manga/the-lords-coins-arent-decreasing/chapter-13/', 'https://mangaweebs.in/manga/the-lords-coins-arent-decreasing/chapter-12/', 'https://mangaweebs.in/manga/the-lords-coins-arent-decreasing/chapter-11/', 'https://mangaweebs.in/manga/the-lords-coins-arent-decreasing/chapter-10/', 'https://mangaweebs.in/manga/the-lords-coins-arent-decreasing/chapter-9/', 'https://mangaweebs.in/manga/the-lords-coins-arent-decreasing/chapter-8/', 'https://mangaweebs.in/manga/the-lords-coins-arent-decreasing/chapter-7/', 'https://mangaweebs.in/manga/the-lords-coins-arent-decreasing/chapter-6/', 'https://mangaweebs.in/manga/the-lords-coins-arent-decreasing/chapter-5/', 'https://mangaweebs.in/manga/the-lords-coins-arent-decreasing/chapter-4/', 'https://mangaweebs.in/manga/the-lords-coins-arent-decreasing/chapter-3/', 'https://mangaweebs.in/manga/the-lords-coins-arent-decreasing/chapter-2/', 'https://mangaweebs.in/manga/the-lords-coins-arent-decreasing/chapter-1/', 'https://mangaweebs.in/manga/the-lords-coins-arent-decreasing/chapter-0/']\n"
     ]
    }
   ],
   "source": [
    "urls = [e.find_element(By.TAG_NAME, \"a\").get_attribute(\"href\") for e in items]\n",
    "print(urls)"
   ]
  },
  {
   "cell_type": "code",
   "execution_count": null,
   "metadata": {},
   "outputs": [],
   "source": []
  }
 ],
 "metadata": {
  "kernelspec": {
   "display_name": "venv",
   "language": "python",
   "name": "python3"
  },
  "language_info": {
   "codemirror_mode": {
    "name": "ipython",
    "version": 3
   },
   "file_extension": ".py",
   "mimetype": "text/x-python",
   "name": "python",
   "nbconvert_exporter": "python",
   "pygments_lexer": "ipython3",
   "version": "3.11.5"
  }
 },
 "nbformat": 4,
 "nbformat_minor": 2
}
