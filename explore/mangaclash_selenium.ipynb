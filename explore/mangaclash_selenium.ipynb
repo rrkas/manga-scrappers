{
 "cells": [
  {
   "cell_type": "code",
   "execution_count": 1,
   "metadata": {},
   "outputs": [
    {
     "name": "stdout",
     "output_type": "stream",
     "text": [
      "Requirement already satisfied: selenium in d:\\entertainment\\manga\\venv\\lib\\site-packages (4.16.0)\n",
      "Requirement already satisfied: urllib3<3,>=1.26 in d:\\entertainment\\manga\\venv\\lib\\site-packages (from urllib3[socks]<3,>=1.26->selenium) (2.1.0)\n",
      "Requirement already satisfied: trio~=0.17 in d:\\entertainment\\manga\\venv\\lib\\site-packages (from selenium) (0.23.1)\n",
      "Requirement already satisfied: trio-websocket~=0.9 in d:\\entertainment\\manga\\venv\\lib\\site-packages (from selenium) (0.11.1)\n",
      "Requirement already satisfied: certifi>=2021.10.8 in d:\\entertainment\\manga\\venv\\lib\\site-packages (from selenium) (2023.11.17)\n",
      "Requirement already satisfied: attrs>=20.1.0 in d:\\entertainment\\manga\\venv\\lib\\site-packages (from trio~=0.17->selenium) (23.1.0)\n",
      "Requirement already satisfied: sortedcontainers in d:\\entertainment\\manga\\venv\\lib\\site-packages (from trio~=0.17->selenium) (2.4.0)\n",
      "Requirement already satisfied: idna in d:\\entertainment\\manga\\venv\\lib\\site-packages (from trio~=0.17->selenium) (3.6)\n",
      "Requirement already satisfied: outcome in d:\\entertainment\\manga\\venv\\lib\\site-packages (from trio~=0.17->selenium) (1.3.0.post0)\n",
      "Requirement already satisfied: sniffio>=1.3.0 in d:\\entertainment\\manga\\venv\\lib\\site-packages (from trio~=0.17->selenium) (1.3.0)\n",
      "Requirement already satisfied: cffi>=1.14 in d:\\entertainment\\manga\\venv\\lib\\site-packages (from trio~=0.17->selenium) (1.16.0)\n",
      "Requirement already satisfied: wsproto>=0.14 in d:\\entertainment\\manga\\venv\\lib\\site-packages (from trio-websocket~=0.9->selenium) (1.2.0)\n",
      "Requirement already satisfied: pysocks!=1.5.7,<2.0,>=1.5.6 in d:\\entertainment\\manga\\venv\\lib\\site-packages (from urllib3[socks]<3,>=1.26->selenium) (1.7.1)\n",
      "Requirement already satisfied: pycparser in d:\\entertainment\\manga\\venv\\lib\\site-packages (from cffi>=1.14->trio~=0.17->selenium) (2.21)\n",
      "Requirement already satisfied: h11<1,>=0.9.0 in d:\\entertainment\\manga\\venv\\lib\\site-packages (from wsproto>=0.14->trio-websocket~=0.9->selenium) (0.14.0)\n"
     ]
    }
   ],
   "source": [
    "!pip install selenium"
   ]
  },
  {
   "cell_type": "code",
   "execution_count": 2,
   "metadata": {},
   "outputs": [],
   "source": [
    "from selenium import webdriver\n",
    "from selenium.webdriver.chrome.options import Options\n",
    "from selenium.webdriver.common.by import By\n",
    "from selenium.webdriver.common.keys import Keys\n",
    "from selenium.webdriver.common.desired_capabilities import DesiredCapabilities\n",
    "from selenium.webdriver.support import expected_conditions as EC\n",
    "from selenium.webdriver.support.ui import Select, WebDriverWait\n",
    "from tqdm import tqdm\n",
    "from selenium.webdriver.chrome.service import Service"
   ]
  },
  {
   "cell_type": "code",
   "execution_count": 3,
   "metadata": {},
   "outputs": [],
   "source": [
    "def set_chrome_options():\n",
    "    chrome_options = Options()\n",
    "    for e in [\n",
    "        \"enable-automation\",\n",
    "        \"start-maximized\",\n",
    "        \"disable-infobars\",\n",
    "        \"--disable-infobars\",\n",
    "        # \"--headless\",\n",
    "        \"--no-sandbox\",\n",
    "        \"--force-device-scale-factor=1\",\n",
    "        \"--disable-extensions\",\n",
    "        \"--disable-dev-shm-usage\",\n",
    "        \"--disable-gpu\",\n",
    "    ]:\n",
    "        chrome_options.add_argument(e)\n",
    "\n",
    "    # chrome_prefs = {\"profile.managed_default_content_settings.images\": 2}\n",
    "    # chrome_options.experimental_options[\"prefs\"] = chrome_prefs\n",
    "    # chrome_prefs[\"profile.default_content_settings\"] = {\"images\": 2}\n",
    "    chrome_options.add_experimental_option(\"excludeSwitches\", [\"enable-logging\"])\n",
    "    return chrome_options\n",
    "\n",
    "\n",
    "def get_driver(url):\n",
    "    # start = datetime.datetime.now()\n",
    "    # service = Service(executable_path=\"/usr/bin/chromedriver\")\n",
    "    driver = webdriver.Chrome(\n",
    "        # service=service,\n",
    "        options=set_chrome_options(),\n",
    "    )\n",
    "    # driver = webdriver.Remote(desired_capabilities=webdriver.DesiredCapabilities.HTMLUNIT)\n",
    "    driver.implicitly_wait(0.05)\n",
    "    driver.set_page_load_timeout(60 * 60 * 60)\n",
    "    driver.get(url)\n",
    "    # end = datetime.datetime.now()\n",
    "    # print(end - start)\n",
    "    return driver"
   ]
  },
  {
   "cell_type": "code",
   "execution_count": 4,
   "metadata": {},
   "outputs": [],
   "source": [
    "url = \"https://mangaweebs.in/manga/the-lords-coins-arent-decreasing/chapter-1/\"\n",
    "driver = get_driver(url)"
   ]
  },
  {
   "cell_type": "code",
   "execution_count": 8,
   "metadata": {},
   "outputs": [
    {
     "data": {
      "text/plain": [
       "(['https://cdn.mangaweebs.in/manga_6075e5f0835c9/chapter-1/001.jpg',\n",
       "  'https://cdn.mangaweebs.in/manga_6075e5f0835c9/chapter-1/002.jpg',\n",
       "  'https://cdn.mangaweebs.in/manga_6075e5f0835c9/chapter-1/003.jpg',\n",
       "  'https://cdn.mangaweebs.in/manga_6075e5f0835c9/chapter-1/004.jpg',\n",
       "  'https://cdn.mangaweebs.in/manga_6075e5f0835c9/chapter-1/005.jpg',\n",
       "  'https://cdn.mangaweebs.in/manga_6075e5f0835c9/chapter-1/006.jpg',\n",
       "  'https://cdn.mangaweebs.in/manga_6075e5f0835c9/chapter-1/007.jpg',\n",
       "  'https://cdn.mangaweebs.in/manga_6075e5f0835c9/chapter-1/008.jpg',\n",
       "  'https://cdn.mangaweebs.in/manga_6075e5f0835c9/chapter-1/009.jpg',\n",
       "  'https://cdn.mangaweebs.in/manga_6075e5f0835c9/chapter-1/010.jpg',\n",
       "  'https://cdn.mangaweebs.in/manga_6075e5f0835c9/chapter-1/011.jpg',\n",
       "  'https://cdn.mangaweebs.in/manga_6075e5f0835c9/chapter-1/012.png'],\n",
       " 12)"
      ]
     },
     "execution_count": 8,
     "metadata": {},
     "output_type": "execute_result"
    }
   ],
   "source": [
    "imgs = []\n",
    "\n",
    "for e in driver.find_elements(By.XPATH, \"\"\"//*[@class=\"reading-content\"]//img\"\"\"):\n",
    "    iurl = e.get_attribute(\"src\")\n",
    "\n",
    "    if \"logo.\" in iurl:\n",
    "        continue\n",
    "\n",
    "    imgs.append(iurl)\n",
    "\n",
    "imgs, len(imgs)"
   ]
  },
  {
   "cell_type": "code",
   "execution_count": null,
   "metadata": {},
   "outputs": [
    {
     "name": "stdout",
     "output_type": "stream",
     "text": [
      "https://imp9.bidgear.com/rec?t=1&z=5112&uuid=a788d70f2d2e49219caf10319d7d8eb3&p=21&g=IN&token=4a44335432&tbg=1702211561\n",
      "https://cdn.mangaclash.com/manga_5f3a3b5af1cfb/efecd787761c764e44b558d8042d9e61/1.jpg\n"
     ]
    }
   ],
   "source": []
  },
  {
   "cell_type": "code",
   "execution_count": 9,
   "metadata": {},
   "outputs": [
    {
     "data": {
      "text/plain": [
       "'https://mangaweebs.in/manga/the-lords-coins-arent-decreasing/chapter-2/'"
      ]
     },
     "execution_count": 9,
     "metadata": {},
     "output_type": "execute_result"
    }
   ],
   "source": [
    "nxt_btn = driver.find_element(By.XPATH, \"\"\"//*[@class=\"btn next_page\"]\"\"\")\n",
    "nxt_btn.get_attribute(\"href\")"
   ]
  },
  {
   "cell_type": "code",
   "execution_count": null,
   "metadata": {},
   "outputs": [],
   "source": []
  }
 ],
 "metadata": {
  "kernelspec": {
   "display_name": "venv",
   "language": "python",
   "name": "python3"
  },
  "language_info": {
   "codemirror_mode": {
    "name": "ipython",
    "version": 3
   },
   "file_extension": ".py",
   "mimetype": "text/x-python",
   "name": "python",
   "nbconvert_exporter": "python",
   "pygments_lexer": "ipython3",
   "version": "3.11.5"
  }
 },
 "nbformat": 4,
 "nbformat_minor": 2
}
