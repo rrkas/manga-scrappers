{
 "cells": [
  {
   "cell_type": "code",
   "execution_count": 1,
   "id": "a006d902-466f-473f-9abf-82c9c3a4eb5d",
   "metadata": {
    "execution": {
     "iopub.execute_input": "2023-12-10T05:46:22.063210Z",
     "iopub.status.busy": "2023-12-10T05:46:22.063210Z",
     "iopub.status.idle": "2023-12-10T05:46:30.346555Z",
     "shell.execute_reply": "2023-12-10T05:46:30.346555Z",
     "shell.execute_reply.started": "2023-12-10T05:46:22.063210Z"
    }
   },
   "outputs": [
    {
     "name": "stdout",
     "output_type": "stream",
     "text": [
      "Requirement already satisfied: requests in d:\\entertainment\\manga\\venv\\lib\\site-packages (2.31.0)\n",
      "Collecting bs4\n",
      "  Downloading bs4-0.0.1.tar.gz (1.1 kB)\n",
      "  Preparing metadata (setup.py): started\n",
      "  Preparing metadata (setup.py): finished with status 'done'\n",
      "Collecting html5lib\n",
      "  Downloading html5lib-1.1-py2.py3-none-any.whl (112 kB)\n",
      "     ---------------------------------------- 0.0/112.2 kB ? eta -:--:--\n",
      "     ---------------------------------------- 0.0/112.2 kB ? eta -:--:--\n",
      "     --- ------------------------------------ 10.2/112.2 kB ? eta -:--:--\n",
      "     ---------- -------------------------- 30.7/112.2 kB 262.6 kB/s eta 0:00:01\n",
      "     ------------- ----------------------- 41.0/112.2 kB 245.8 kB/s eta 0:00:01\n",
      "     --------------------------- --------- 81.9/112.2 kB 416.7 kB/s eta 0:00:01\n",
      "     ------------------------------------ 112.2/112.2 kB 502.1 kB/s eta 0:00:00\n",
      "Requirement already satisfied: charset-normalizer<4,>=2 in d:\\entertainment\\manga\\venv\\lib\\site-packages (from requests) (3.3.2)\n",
      "Requirement already satisfied: idna<4,>=2.5 in d:\\entertainment\\manga\\venv\\lib\\site-packages (from requests) (3.6)\n",
      "Requirement already satisfied: urllib3<3,>=1.21.1 in d:\\entertainment\\manga\\venv\\lib\\site-packages (from requests) (2.1.0)\n",
      "Requirement already satisfied: certifi>=2017.4.17 in d:\\entertainment\\manga\\venv\\lib\\site-packages (from requests) (2023.11.17)\n",
      "Requirement already satisfied: beautifulsoup4 in d:\\entertainment\\manga\\venv\\lib\\site-packages (from bs4) (4.12.2)\n",
      "Requirement already satisfied: six>=1.9 in d:\\entertainment\\manga\\venv\\lib\\site-packages (from html5lib) (1.16.0)\n",
      "Requirement already satisfied: webencodings in d:\\entertainment\\manga\\venv\\lib\\site-packages (from html5lib) (0.5.1)\n",
      "Requirement already satisfied: soupsieve>1.2 in d:\\entertainment\\manga\\venv\\lib\\site-packages (from beautifulsoup4->bs4) (2.5)\n",
      "Building wheels for collected packages: bs4\n",
      "  Building wheel for bs4 (setup.py): started\n",
      "  Building wheel for bs4 (setup.py): finished with status 'done'\n",
      "  Created wheel for bs4: filename=bs4-0.0.1-py3-none-any.whl size=1265 sha256=36fa2edc923cf8f806eaf45d61bcf1ce5038e4a0dbad61513fbfd2c6be231011\n",
      "  Stored in directory: c:\\users\\dell\\appdata\\local\\pip\\cache\\wheels\\d4\\c8\\5b\\b5be9c20e5e4503d04a6eac8a3cd5c2393505c29f02bea0960\n",
      "Successfully built bs4\n",
      "Installing collected packages: html5lib, bs4\n",
      "Successfully installed bs4-0.0.1 html5lib-1.1\n"
     ]
    }
   ],
   "source": [
    "!pip install requests bs4 html5lib"
   ]
  },
  {
   "cell_type": "code",
   "execution_count": 20,
   "id": "714e01fd-59fe-45a7-96df-3e6e99b81074",
   "metadata": {
    "execution": {
     "iopub.execute_input": "2023-12-10T08:14:57.731193Z",
     "iopub.status.busy": "2023-12-10T08:14:57.731193Z",
     "iopub.status.idle": "2023-12-10T08:14:57.743713Z",
     "shell.execute_reply": "2023-12-10T08:14:57.743713Z",
     "shell.execute_reply.started": "2023-12-10T08:14:57.731193Z"
    }
   },
   "outputs": [],
   "source": [
    "import requests, os, sys, shutil, json\n",
    "from pathlib import Path\n",
    "from bs4 import BeautifulSoup"
   ]
  },
  {
   "cell_type": "code",
   "execution_count": 21,
   "id": "db9dbb7c-e513-410f-92a2-77aed9f2536a",
   "metadata": {
    "execution": {
     "iopub.execute_input": "2023-12-10T08:18:20.240638Z",
     "iopub.status.busy": "2023-12-10T08:18:20.239543Z",
     "iopub.status.idle": "2023-12-10T08:18:20.244215Z",
     "shell.execute_reply": "2023-12-10T08:18:20.244215Z",
     "shell.execute_reply.started": "2023-12-10T08:18:20.240638Z"
    }
   },
   "outputs": [],
   "source": [
    "output_dir = Path(\"data/mangaclash\")\n",
    "os.makedirs(output_dir, exist_ok=True)"
   ]
  },
  {
   "cell_type": "code",
   "execution_count": 22,
   "id": "711eaf30-171d-4454-bacd-af53d8e1fa9e",
   "metadata": {
    "execution": {
     "iopub.execute_input": "2023-12-10T08:18:21.477622Z",
     "iopub.status.busy": "2023-12-10T08:18:21.477622Z",
     "iopub.status.idle": "2023-12-10T08:18:21.482315Z",
     "shell.execute_reply": "2023-12-10T08:18:21.481303Z",
     "shell.execute_reply.started": "2023-12-10T08:18:21.477622Z"
    }
   },
   "outputs": [],
   "source": [
    "headers = {\n",
    "    \"User-Agent\": \"Mozilla/5.0 (Windows NT 10.0; Win64; x64) AppleWebKit/537.36 (KHTML, like Gecko) Chrome/42.0.2311.135 Safari/537.36 Edge/12.246\"\n",
    "}"
   ]
  },
  {
   "cell_type": "code",
   "execution_count": null,
   "id": "f6fc2bf0-f5d1-4b1e-8c4a-a6da4973ad21",
   "metadata": {
    "execution": {
     "iopub.execute_input": "2023-12-10T08:22:34.275577Z",
     "iopub.status.busy": "2023-12-10T08:22:34.260855Z"
    }
   },
   "outputs": [
    {
     "name": "stdout",
     "output_type": "stream",
     "text": [
      "https://mangaclash.com/manga/solo-leveling/chapter-1/\n",
      "https://mangaclash.com/manga/solo-leveling/chapter-2/\n",
      "https://mangaclash.com/manga/solo-leveling/chapter-3/\n",
      "https://mangaclash.com/manga/solo-leveling/chapter-4/\n",
      "https://mangaclash.com/manga/solo-leveling/chapter-5/\n",
      "https://mangaclash.com/manga/solo-leveling/chapter-6/\n",
      "https://mangaclash.com/manga/solo-leveling/chapter-7/\n",
      "https://mangaclash.com/manga/solo-leveling/chapter-8/\n",
      "https://mangaclash.com/manga/solo-leveling/chapter-9/\n",
      "https://mangaclash.com/manga/solo-leveling/chapter-10/\n",
      "https://mangaclash.com/manga/solo-leveling/chapter-11/\n",
      "https://mangaclash.com/manga/solo-leveling/chapter-12/\n"
     ]
    }
   ],
   "source": [
    "url = \"https://mangaclash.com/manga/solo-leveling/chapter-1/\"\n",
    "\n",
    "ch_idx = 1\n",
    "\n",
    "while True:\n",
    "    parts = url.strip(\"/\").split(\"/\")\n",
    "\n",
    "    manga_dir = output_dir / parts[-2]\n",
    "    os.makedirs(manga_dir, exist_ok=True)\n",
    "\n",
    "    chapter_dir = manga_dir / f\"{ch_idx:04d}__{parts[-1]}\"\n",
    "    os.makedirs(chapter_dir, exist_ok=True)\n",
    "\n",
    "    print(url)\n",
    "    resp = requests.get(url, headers=headers)\n",
    "    soup = BeautifulSoup(resp.content, \"html5lib\")\n",
    "\n",
    "    imgs_div = soup.find(\"div\", attrs={\"class\": \"reading-content\"})\n",
    "\n",
    "    if imgs_div is None:\n",
    "        break\n",
    "\n",
    "    imgs = [e[\"data-src\"].strip() for e in imgs_div.findAll(\"img\")]\n",
    "\n",
    "    imgs_width = len(str(len(imgs)))\n",
    "\n",
    "    with open(chapter_dir / \"data.json\", \"w\", encoding=\"utf-8\") as f:\n",
    "        json.dump(\n",
    "            {\n",
    "                \"chapter_index\": ch_idx,\n",
    "                \"url\": url,\n",
    "                \"image_urls\": imgs,\n",
    "            },\n",
    "            f,\n",
    "            indent=4,\n",
    "            default=str,\n",
    "            ensure_ascii=True,\n",
    "        )\n",
    "\n",
    "    for idx, img in enumerate(imgs):\n",
    "        img_path = chapter_dir / (\n",
    "            str(idx).zfill(imgs_width) + \".\" + img.strip(\"/\").split(\".\")[-1]\n",
    "        )\n",
    "\n",
    "        if os.path.exists(img_path):\n",
    "            continue\n",
    "\n",
    "        img_resp = requests.get(img)\n",
    "        with open(img_path, \"wb\") as f:\n",
    "            f.write(img_resp.content)\n",
    "\n",
    "    next_btn = soup.find(\"div\", attrs={\"class\": \"nav-next\"})\n",
    "\n",
    "    if next_btn is None:\n",
    "        break\n",
    "\n",
    "    url = next_btn.a[\"href\"]\n",
    "\n",
    "    ch_idx += 1\n",
    "\n",
    "    # break"
   ]
  },
  {
   "cell_type": "code",
   "execution_count": null,
   "id": "43a42496-5e69-4975-91af-24faac80e4bb",
   "metadata": {},
   "outputs": [],
   "source": []
  }
 ],
 "metadata": {
  "kernelspec": {
   "display_name": "Python 3 (ipykernel)",
   "language": "python",
   "name": "python3"
  },
  "language_info": {
   "codemirror_mode": {
    "name": "ipython",
    "version": 3
   },
   "file_extension": ".py",
   "mimetype": "text/x-python",
   "name": "python",
   "nbconvert_exporter": "python",
   "pygments_lexer": "ipython3",
   "version": "3.11.5"
  },
  "widgets": {
   "application/vnd.jupyter.widget-state+json": {
    "state": {},
    "version_major": 2,
    "version_minor": 0
   }
  }
 },
 "nbformat": 4,
 "nbformat_minor": 5
}
